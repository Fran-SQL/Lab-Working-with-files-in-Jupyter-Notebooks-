{
  "cells": [
    {
      "cell_type": "markdown",
      "metadata": {
        "id": "BPukuHNQu_Je"
      },
      "source": [
        "<center>\n",
        "    <img src=\"https://cf-courses-data.s3.us.cloud-object-storage.appdomain.cloud/IBMDeveloperSkillsNetwork-DS0105EN-SkillsNetwork/labs/Module2/images/SN_web_lightmode.png\" width=\"300\" alt=\"cognitiveclass.ai logo\">\n",
        "</center>\n"
      ]
    },
    {
      "cell_type": "markdown",
      "metadata": {
        "id": "sGAEn13Mu_Jg"
      },
      "source": [
        "#### Add your code below following the instructions given in the course\n"
      ]
    },
    {
      "cell_type": "markdown",
      "metadata": {
        "id": "rRFj1J3ku_Jh"
      },
      "source": [
        "# Data Science Tools and Ecosystem"
      ]
    },
    {
      "cell_type": "markdown",
      "metadata": {
        "id": "Enc9tXgSu_Jh"
      },
      "source": [
        "In this notebook, Data Science Tools and Ecosystem are summarized."
      ]
    },
    {
      "cell_type": "markdown",
      "metadata": {
        "id": "FUf-3-t9u_Jh"
      },
      "source": [
        "**Objectives:**\n",
        "- List popular languages for Data Science\n",
        "- List popular libraries for Data Science\n",
        "- List popular open source tools for Data Science\n"
      ]
    },
    {
      "cell_type": "markdown",
      "metadata": {
        "id": "XC_8VIAhu_Ji"
      },
      "source": [
        "Some of the popular languages that Data Scientists use are:\n",
        "1. python\n",
        "2. SQL\n",
        "3. Scala"
      ]
    },
    {
      "cell_type": "markdown",
      "metadata": {
        "id": "2MeF7WNpu_Ji"
      },
      "source": [
        "Some of the commonly used libraries used by Data Scientists include:\n",
        "1. pandas\n",
        "2. numpy\n",
        "3. matplotlib"
      ]
    },
    {
      "cell_type": "markdown",
      "metadata": {
        "id": "p9Roq0gPu_Ji"
      },
      "source": [
        "| Data Science Tools\n",
        "| ------------------\n",
        "| Scikit-learn\n",
        "| R with RStudio\n",
        "| Apache Spark"
      ]
    },
    {
      "cell_type": "markdown",
      "metadata": {
        "id": "z7evuGNMu_Ji"
      },
      "source": [
        "### Below are a few examples of evaluating arithmetic expressions in Python"
      ]
    },
    {
      "cell_type": "code",
      "execution_count": null,
      "metadata": {
        "id": "hfGv94U9u_Ji",
        "outputId": "481fa601-4aad-4bc6-df80-b22e882dc450"
      },
      "outputs": [
        {
          "data": {
            "text/plain": [
              "17"
            ]
          },
          "execution_count": 3,
          "metadata": {},
          "output_type": "execute_result"
        }
      ],
      "source": [
        "# This a simple arithmetic expression to multiply then add integers\n",
        "(3*4)+5"
      ]
    },
    {
      "cell_type": "code",
      "execution_count": null,
      "metadata": {
        "id": "uGJehtqYu_Jj",
        "outputId": "a1b2ee5b-c33e-4d4a-ba75-3509138bdc17"
      },
      "outputs": [
        {
          "data": {
            "text/plain": [
              "3.3333333333333335"
            ]
          },
          "execution_count": 4,
          "metadata": {},
          "output_type": "execute_result"
        }
      ],
      "source": [
        "# This will convert 200 minutes to hours by diving by 60\n",
        "200 / 60"
      ]
    },
    {
      "cell_type": "markdown",
      "metadata": {
        "id": "sZ1IH23Yu_Jj"
      },
      "source": [
        "## Author\n",
        "Franchesco"
      ]
    }
  ],
  "metadata": {
    "kernelspec": {
      "display_name": "Python 3 (ipykernel)",
      "language": "python",
      "name": "python3"
    },
    "language_info": {
      "codemirror_mode": {
        "name": "ipython",
        "version": 3
      },
      "file_extension": ".py",
      "mimetype": "text/x-python",
      "name": "python",
      "nbconvert_exporter": "python",
      "pygments_lexer": "ipython3",
      "version": "3.12.8"
    },
    "colab": {
      "provenance": []
    }
  },
  "nbformat": 4,
  "nbformat_minor": 0
}